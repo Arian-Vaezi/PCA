{
 "cells": [
  {
   "cell_type": "markdown",
   "id": "8b984ffa",
   "metadata": {},
   "source": [
    "# PCA on Iris"
   ]
  },
  {
   "cell_type": "code",
   "execution_count": 11,
   "id": "6db5a9eb",
   "metadata": {},
   "outputs": [],
   "source": [
    "import pandas as pd\n",
    "import numpy as np\n",
    "import matplotlib.pyplot as plt"
   ]
  },
  {
   "cell_type": "code",
   "execution_count": 3,
   "id": "e02a9a7e",
   "metadata": {},
   "outputs": [
    {
     "data": {
      "text/plain": [
       "0    Setosa\n",
       "1    Setosa\n",
       "2    Setosa\n",
       "3    Setosa\n",
       "4    Setosa\n",
       "Name: variety, dtype: object"
      ]
     },
     "execution_count": 3,
     "metadata": {},
     "output_type": "execute_result"
    }
   ],
   "source": [
    "df=pd.read_csv('../data/processed/iris_clean.csv')\n",
    "raw = pd.read_csv('../data/raw/iris.csv')\n",
    "df.head()\n",
    "feature_cols=['sepal.length','sepal.width','petal.length','petal.width']\n",
    "X=df[feature_cols]\n",
    "y=raw['variety']\n",
    "X.head()\n",
    "y.head()"
   ]
  },
  {
   "cell_type": "markdown",
   "id": "b12e5f2a",
   "metadata": {},
   "source": [
    "## Covariance matrix"
   ]
  },
  {
   "cell_type": "code",
   "execution_count": 4,
   "id": "ecef9854",
   "metadata": {},
   "outputs": [
    {
     "name": "stdout",
     "output_type": "stream",
     "text": [
      "              sepal.length  sepal.width  petal.length  petal.width\n",
      "sepal.length      1.000000    -0.117570      0.871754     0.817941\n",
      "sepal.width      -0.117570     1.000000     -0.428440    -0.366126\n",
      "petal.length      0.871754    -0.428440      1.000000     0.962865\n",
      "petal.width       0.817941    -0.366126      0.962865     1.000000\n",
      "[[ 1.         -0.11756978  0.87175378  0.81794113]\n",
      " [-0.11756978  1.         -0.4284401  -0.36612593]\n",
      " [ 0.87175378 -0.4284401   1.          0.96286543]\n",
      " [ 0.81794113 -0.36612593  0.96286543  1.        ]]\n"
     ]
    }
   ],
   "source": [
    "cov_matrix=X.T@X/(X.shape[0]-1)\n",
    "print(cov_matrix)\n",
    "cov_matrixNumpy=np.cov(X,rowvar=False)\n",
    "print(cov_matrixNumpy)"
   ]
  },
  {
   "cell_type": "markdown",
   "id": "c7485436",
   "metadata": {},
   "source": [
    "## Computing eigenvalues and eigenvectors"
   ]
  },
  {
   "cell_type": "code",
   "execution_count": 5,
   "id": "5bac1472",
   "metadata": {},
   "outputs": [
    {
     "name": "stdout",
     "output_type": "stream",
     "text": [
      "eigen values are:[2.91849782 0.91403047 0.14675688 0.02071484],\n",
      "eigenvectors are :\n",
      "[[ 0.52106591 -0.37741762 -0.71956635  0.26128628]\n",
      " [-0.26934744 -0.92329566  0.24438178 -0.12350962]\n",
      " [ 0.5804131  -0.02449161  0.14212637 -0.80144925]\n",
      " [ 0.56485654 -0.06694199  0.63427274  0.52359713]]\n",
      "Mode 1: λ = 2.9185,  v = [ 0.52106591 -0.26934744  0.5804131   0.56485654]\n",
      "Mode 2: λ = 0.9140,  v = [-0.37741762 -0.92329566 -0.02449161 -0.06694199]\n",
      "Mode 3: λ = 0.1468,  v = [-0.71956635  0.24438178  0.14212637  0.63427274]\n",
      "Mode 4: λ = 0.0207,  v = [ 0.26128628 -0.12350962 -0.80144925  0.52359713]\n",
      "\n",
      "\n",
      "Mode 1: λ = 2.9185,  v = [ 0.52106591 -0.26934744  0.5804131   0.56485654]\n",
      "Mode 2: λ = 0.9140,  v = [-0.37741762 -0.92329566 -0.02449161 -0.06694199]\n",
      "Mode 3: λ = 0.1468,  v = [-0.71956635  0.24438178  0.14212637  0.63427274]\n",
      "Mode 4: λ = 0.0207,  v = [ 0.26128628 -0.12350962 -0.80144925  0.52359713]\n"
     ]
    }
   ],
   "source": [
    "# I=np.eye(cov_matrix.shape[0])\n",
    "# print(I)\n",
    "# TransformMatrix=cov_matrix-I\n",
    "# print(TransformMatrix)\n",
    "##########################\n",
    "eigvals,eigvecs=np.linalg.eig(cov_matrix)\n",
    "\n",
    "print(f'eigen values are:{eigvals},\\neigenvectors are :\\n{eigvecs}')\n",
    "\n",
    "pairs=[(eigvals[i],eigvecs[:,i])for i in range(len(eigvals))]\n",
    "for idx, (λ, v) in enumerate(pairs, start=1):\n",
    "    print(f\"Mode {idx}: λ = {λ:.4f},  v = {v}\")\n",
    "print('\\n')\n",
    "pairs_sort=sorted(pairs,key=lambda pair:pair[0],reverse=True)\n",
    "for idx, (λ, v) in enumerate(pairs_sort, start=1):\n",
    "    print(f\"Mode {idx}: λ = {λ:.4f},  v = {v}\")"
   ]
  },
  {
   "cell_type": "markdown",
   "id": "c00a926d",
   "metadata": {},
   "source": [
    "## computing explained-Variance Ratio"
   ]
  },
  {
   "cell_type": "code",
   "execution_count": 6,
   "id": "d7813d7c",
   "metadata": {},
   "outputs": [
    {
     "name": "stdout",
     "output_type": "stream",
     "text": [
      "[0.72962445 0.22850762 0.03668922 0.00517871]\n",
      "[0.72962445 0.95813207 0.99482129 1.        ]\n"
     ]
    }
   ],
   "source": [
    "total_var=np.sum(eigvals)\n",
    "\n",
    "evr=eigvals/total_var\n",
    "print(evr)\n",
    "\n",
    "cum_evr=np.cumsum(evr)\n",
    "print(cum_evr)"
   ]
  },
  {
   "cell_type": "markdown",
   "id": "f307c04b",
   "metadata": {},
   "source": [
    "##Creating a tabular view"
   ]
  },
  {
   "cell_type": "code",
   "execution_count": 9,
   "id": "40ffd02c",
   "metadata": {},
   "outputs": [
    {
     "name": "stdout",
     "output_type": "stream",
     "text": [
      "  components  eigenvalue  explained ratio  cumulative Variance\n",
      "0        PC1       2.918            0.730                0.730\n",
      "1        PC2       0.914            0.229                0.958\n",
      "2        PC3       0.147            0.037                0.995\n",
      "3        PC4       0.021            0.005                1.000\n"
     ]
    }
   ],
   "source": [
    "component=[f'PC{i+1}'for i in range(4)]\n",
    "Info=pd.DataFrame({\n",
    "    'components':component,\n",
    "    'eigenvalue':eigvals,\n",
    "    'explained ratio':evr,\n",
    "    'cumulative Variance':cum_evr\n",
    "})\n",
    "print(Info.round(3))"
   ]
  },
  {
   "cell_type": "code",
   "execution_count": 18,
   "id": "2c1398f7",
   "metadata": {},
   "outputs": [
    {
     "data": {
      "image/png": "[encoded data removed]",
      "text/plain": [
       "<Figure size 640x480 with 1 Axes>"
      ]
     },
     "metadata": {},
     "output_type": "display_data"
    }
   ],
   "source": [
    "pc_indices=[1,2,3,4]\n",
    "plt.figure()\n",
    "plt.bar(pc_indices,evr,edgecolor='k')\n",
    "plt.xlabel('Principal Component')\n",
    "plt.ylabel('Explained Variance Ratio')\n",
    "plt.title('Scree plot for Iris PCA')\n",
    "plt.xticks(pc_indices)\n",
    "plt.ylim(0,1.0)\n",
    "\n",
    "plt.grid(axis='y',linestyle='--',linewidth=0.5)\n",
    "plt.savefig('../imgs/scree.png', bbox_inches='tight')\n",
    "plt.show()\n"
   ]
  }
 ],
 "metadata": {
  "kernelspec": {
   "display_name": "Python 3",
   "language": "python",
   "name": "python3"
  },
  "language_info": {
   "codemirror_mode": {
    "name": "ipython",
    "version": 3
   },
   "file_extension": ".py",
   "mimetype": "text/x-python",
   "name": "python",
   "nbconvert_exporter": "python",
   "pygments_lexer": "ipython3",
   "version": "3.13.4"
  }
 },
 "nbformat": 4,
 "nbformat_minor": 5
}
