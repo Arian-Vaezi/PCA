{
 "cells": [
  {
   "cell_type": "code",
   "execution_count": 38,
   "id": "5d64fc1c-eb0b-49b8-a7ac-b50de51ccd9f",
   "metadata": {},
   "outputs": [],
   "source": [
    "import pandas as pd \n",
    "import numpy as np"
   ]
  },
  {
   "cell_type": "markdown",
   "id": "1cf04d7d-00bf-400a-a2a9-e366fe7b6d54",
   "metadata": {},
   "source": [
    "#Load Data\n",
    "\"reading csv FIle\""
   ]
  },
  {
   "cell_type": "code",
   "execution_count": 39,
   "id": "51f4eff7-bcbb-4695-b3d7-e60193e8c37c",
   "metadata": {},
   "outputs": [
    {
     "data": {
      "text/html": [
       "<div>\n",
       "<style scoped>\n",
       "    .dataframe tbody tr th:only-of-type {\n",
       "        vertical-align: middle;\n",
       "    }\n",
       "\n",
       "    .dataframe tbody tr th {\n",
       "        vertical-align: top;\n",
       "    }\n",
       "\n",
       "    .dataframe thead th {\n",
       "        text-align: right;\n",
       "    }\n",
       "</style>\n",
       "<table border=\"1\" class=\"dataframe\">\n",
       "  <thead>\n",
       "    <tr style=\"text-align: right;\">\n",
       "      <th></th>\n",
       "      <th>sepal.length</th>\n",
       "      <th>sepal.width</th>\n",
       "      <th>petal.length</th>\n",
       "      <th>petal.width</th>\n",
       "      <th>variety</th>\n",
       "    </tr>\n",
       "  </thead>\n",
       "  <tbody>\n",
       "    <tr>\n",
       "      <th>0</th>\n",
       "      <td>5.1</td>\n",
       "      <td>3.5</td>\n",
       "      <td>1.4</td>\n",
       "      <td>0.2</td>\n",
       "      <td>Setosa</td>\n",
       "    </tr>\n",
       "    <tr>\n",
       "      <th>1</th>\n",
       "      <td>4.9</td>\n",
       "      <td>3.0</td>\n",
       "      <td>1.4</td>\n",
       "      <td>0.2</td>\n",
       "      <td>Setosa</td>\n",
       "    </tr>\n",
       "    <tr>\n",
       "      <th>2</th>\n",
       "      <td>4.7</td>\n",
       "      <td>3.2</td>\n",
       "      <td>1.3</td>\n",
       "      <td>0.2</td>\n",
       "      <td>Setosa</td>\n",
       "    </tr>\n",
       "    <tr>\n",
       "      <th>3</th>\n",
       "      <td>4.6</td>\n",
       "      <td>3.1</td>\n",
       "      <td>1.5</td>\n",
       "      <td>0.2</td>\n",
       "      <td>Setosa</td>\n",
       "    </tr>\n",
       "    <tr>\n",
       "      <th>4</th>\n",
       "      <td>5.0</td>\n",
       "      <td>3.6</td>\n",
       "      <td>1.4</td>\n",
       "      <td>0.2</td>\n",
       "      <td>Setosa</td>\n",
       "    </tr>\n",
       "  </tbody>\n",
       "</table>\n",
       "</div>"
      ],
      "text/plain": [
       "   sepal.length  sepal.width  petal.length  petal.width variety\n",
       "0           5.1          3.5           1.4          0.2  Setosa\n",
       "1           4.9          3.0           1.4          0.2  Setosa\n",
       "2           4.7          3.2           1.3          0.2  Setosa\n",
       "3           4.6          3.1           1.5          0.2  Setosa\n",
       "4           5.0          3.6           1.4          0.2  Setosa"
      ]
     },
     "execution_count": 39,
     "metadata": {},
     "output_type": "execute_result"
    }
   ],
   "source": [
    "df=pd.read_csv('../data/raw/iris.csv')\n",
    "df.head()"
   ]
  },
  {
   "cell_type": "markdown",
   "id": "0d13e678-5aed-423b-8ca4-a4365510aa29",
   "metadata": {},
   "source": [
    "##inspecting data"
   ]
  },
  {
   "cell_type": "code",
   "execution_count": null,
   "id": "0a6453f4-f381-41fe-ad97-20f55c66a7fd",
   "metadata": {},
   "outputs": [
    {
     "name": "stdout",
     "output_type": "stream",
     "text": [
      "Shape: (150, 5)\n",
      "Data types:\n",
      "sepal.length    float64\n",
      "sepal.width     float64\n",
      "petal.length    float64\n",
      "petal.width     float64\n",
      "variety          object\n",
      "dtype: object\n",
      "Dummary Stats:\n",
      "<bound method NDFrame.describe of      sepal.length  sepal.width  petal.length  petal.width    variety\n",
      "0             5.1          3.5           1.4          0.2     Setosa\n",
      "1             4.9          3.0           1.4          0.2     Setosa\n",
      "2             4.7          3.2           1.3          0.2     Setosa\n",
      "3             4.6          3.1           1.5          0.2     Setosa\n",
      "4             5.0          3.6           1.4          0.2     Setosa\n",
      "..            ...          ...           ...          ...        ...\n",
      "145           6.7          3.0           5.2          2.3  Virginica\n",
      "146           6.3          2.5           5.0          1.9  Virginica\n",
      "147           6.5          3.0           5.2          2.0  Virginica\n",
      "148           6.2          3.4           5.4          2.3  Virginica\n",
      "149           5.9          3.0           5.1          1.8  Virginica\n",
      "\n",
      "[150 rows x 5 columns]>\n",
      "Missing values:\n",
      "sepal.length    0\n",
      "sepal.width     0\n",
      "petal.length    0\n",
      "petal.width     0\n",
      "variety         0\n",
      "dtype: int64\n"
     ]
    }
   ],
   "source": [
    "print(f\"Shape: {df.shape}\\nData types:\\n{df.dtypes}\\nDummary Stats:\\n{df.describe}\\nMissing values:\\n{df.isnull().sum()}\")\n"
   ]
  },
  {
   "cell_type": "markdown",
   "id": "c8bf4e10-e9df-4115-b701-8e10a30736da",
   "metadata": {},
   "source": [
    "##seprate Features and Lables"
   ]
  },
  {
   "cell_type": "code",
   "execution_count": 41,
   "id": "de5d75fe-e2d6-485e-b925-690c9ada30ed",
   "metadata": {},
   "outputs": [
    {
     "name": "stdout",
     "output_type": "stream",
     "text": [
      "Features Shape: (150, 4)\n",
      "Labels (150,)\n"
     ]
    },
    {
     "data": {
      "text/plain": [
       "<bound method NDFrame.head of      sepal.length  sepal.width  petal.length  petal.width\n",
       "0             5.1          3.5           1.4          0.2\n",
       "1             4.9          3.0           1.4          0.2\n",
       "2             4.7          3.2           1.3          0.2\n",
       "3             4.6          3.1           1.5          0.2\n",
       "4             5.0          3.6           1.4          0.2\n",
       "..            ...          ...           ...          ...\n",
       "145           6.7          3.0           5.2          2.3\n",
       "146           6.3          2.5           5.0          1.9\n",
       "147           6.5          3.0           5.2          2.0\n",
       "148           6.2          3.4           5.4          2.3\n",
       "149           5.9          3.0           5.1          1.8\n",
       "\n",
       "[150 rows x 4 columns]>"
      ]
     },
     "execution_count": 41,
     "metadata": {},
     "output_type": "execute_result"
    }
   ],
   "source": [
    "feature_cols=['sepal.length', 'sepal.width', 'petal.length', 'petal.width']\n",
    "X=df[feature_cols]\n",
    "y=df['variety']\n",
    "\n",
    "print('Features Shape:',X.shape)\n",
    "print('Labels', y.shape)\n",
    "X.head"
   ]
  },
  {
   "cell_type": "markdown",
   "id": "ac1d41b3-b345-4955-876b-1718852df696",
   "metadata": {},
   "source": [
    "Standardize"
   ]
  },
  {
   "cell_type": "code",
   "execution_count": 42,
   "id": "f2da7639-9dd6-4a70-888a-f345afc377e4",
   "metadata": {},
   "outputs": [
    {
     "name": "stdout",
     "output_type": "stream",
     "text": [
      "sepal.length    5.843333\n",
      "sepal.width     3.057333\n",
      "petal.length    3.758000\n",
      "petal.width     1.199333\n",
      "dtype: float64      sepal.length  sepal.width  petal.length  petal.width\n",
      "0       -0.743333     0.442667        -2.358    -0.999333\n",
      "1       -0.943333    -0.057333        -2.358    -0.999333\n",
      "2       -1.143333     0.142667        -2.458    -0.999333\n",
      "3       -1.243333     0.042667        -2.258    -0.999333\n",
      "4       -0.843333     0.542667        -2.358    -0.999333\n",
      "..            ...          ...           ...          ...\n",
      "145      0.856667    -0.057333         1.442     1.100667\n",
      "146      0.456667    -0.557333         1.242     0.700667\n",
      "147      0.656667    -0.057333         1.442     0.800667\n",
      "148      0.356667     0.342667         1.642     1.100667\n",
      "149      0.056667    -0.057333         1.342     0.600667\n",
      "\n",
      "[150 rows x 4 columns] sepal.length    0.828066\n",
      "sepal.width     0.435866\n",
      "petal.length    1.765298\n",
      "petal.width     0.762238\n",
      "dtype: float64\n"
     ]
    },
    {
     "data": {
      "text/html": [
       "<div>\n",
       "<style scoped>\n",
       "    .dataframe tbody tr th:only-of-type {\n",
       "        vertical-align: middle;\n",
       "    }\n",
       "\n",
       "    .dataframe tbody tr th {\n",
       "        vertical-align: top;\n",
       "    }\n",
       "\n",
       "    .dataframe thead th {\n",
       "        text-align: right;\n",
       "    }\n",
       "</style>\n",
       "<table border=\"1\" class=\"dataframe\">\n",
       "  <thead>\n",
       "    <tr style=\"text-align: right;\">\n",
       "      <th></th>\n",
       "      <th>sepal.length</th>\n",
       "      <th>sepal.width</th>\n",
       "      <th>petal.length</th>\n",
       "      <th>petal.width</th>\n",
       "    </tr>\n",
       "  </thead>\n",
       "  <tbody>\n",
       "    <tr>\n",
       "      <th>0</th>\n",
       "      <td>-0.897674</td>\n",
       "      <td>1.015602</td>\n",
       "      <td>-1.335752</td>\n",
       "      <td>-1.311052</td>\n",
       "    </tr>\n",
       "    <tr>\n",
       "      <th>1</th>\n",
       "      <td>-1.139200</td>\n",
       "      <td>-0.131539</td>\n",
       "      <td>-1.335752</td>\n",
       "      <td>-1.311052</td>\n",
       "    </tr>\n",
       "    <tr>\n",
       "      <th>2</th>\n",
       "      <td>-1.380727</td>\n",
       "      <td>0.327318</td>\n",
       "      <td>-1.392399</td>\n",
       "      <td>-1.311052</td>\n",
       "    </tr>\n",
       "    <tr>\n",
       "      <th>3</th>\n",
       "      <td>-1.501490</td>\n",
       "      <td>0.097889</td>\n",
       "      <td>-1.279104</td>\n",
       "      <td>-1.311052</td>\n",
       "    </tr>\n",
       "    <tr>\n",
       "      <th>4</th>\n",
       "      <td>-1.018437</td>\n",
       "      <td>1.245030</td>\n",
       "      <td>-1.335752</td>\n",
       "      <td>-1.311052</td>\n",
       "    </tr>\n",
       "  </tbody>\n",
       "</table>\n",
       "</div>"
      ],
      "text/plain": [
       "   sepal.length  sepal.width  petal.length  petal.width\n",
       "0     -0.897674     1.015602     -1.335752    -1.311052\n",
       "1     -1.139200    -0.131539     -1.335752    -1.311052\n",
       "2     -1.380727     0.327318     -1.392399    -1.311052\n",
       "3     -1.501490     0.097889     -1.279104    -1.311052\n",
       "4     -1.018437     1.245030     -1.335752    -1.311052"
      ]
     },
     "execution_count": 42,
     "metadata": {},
     "output_type": "execute_result"
    }
   ],
   "source": [
    "Features_mean=np.mean(X,axis=0)\n",
    "MeanCenterdData=X-Features_mean\n",
    "STDeviation=np.std(MeanCenterdData,axis=0,ddof=1)\n",
    "X_std=MeanCenterdData/STDeviation\n",
    "print(Features_mean,MeanCenterdData,STDeviation)\n",
    "X_std.head()"
   ]
  },
  {
   "cell_type": "code",
   "execution_count": null,
   "id": "8ed148ac-e01e-4e97-be08-6e8d8d07ce5b",
   "metadata": {},
   "outputs": [
    {
     "data": {
      "text/plain": [
       "sepal.length    1.0\n",
       "sepal.width     1.0\n",
       "petal.length    1.0\n",
       "petal.width     1.0\n",
       "dtype: float64"
      ]
     },
     "execution_count": 47,
     "metadata": {},
     "output_type": "execute_result"
    }
   ],
   "source": [
    "np.mean(X_std,axis=0)\n",
    "np.std(X_std,axis=0)\n"
   ]
  },
  {
   "cell_type": "code",
   "execution_count": 54,
   "id": "13f0c5b6-b27a-47b3-a0a4-8bda614e5778",
   "metadata": {},
   "outputs": [],
   "source": [
    "X_std.to_csv('../data/processed/iris_clean.csv', index=False)"
   ]
  }
 ],
 "metadata": {
  "kernelspec": {
   "display_name": "Python 3 (ipykernel)",
   "language": "python",
   "name": "python3"
  },
  "language_info": {
   "codemirror_mode": {
    "name": "ipython",
    "version": 3
   },
   "file_extension": ".py",
   "mimetype": "text/x-python",
   "name": "python",
   "nbconvert_exporter": "python",
   "pygments_lexer": "ipython3",
   "version": "3.13.4"
  }
 },
 "nbformat": 4,
 "nbformat_minor": 5
}
